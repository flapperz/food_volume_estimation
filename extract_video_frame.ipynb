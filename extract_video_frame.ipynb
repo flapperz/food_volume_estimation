{
 "cells": [
  {
   "cell_type": "code",
   "execution_count": 26,
   "metadata": {
    "execution": {
     "iopub.execute_input": "2021-05-12T22:03:06.183421Z",
     "iopub.status.busy": "2021-05-12T22:03:06.183421Z",
     "iopub.status.idle": "2021-05-12T22:03:06.201976Z",
     "shell.execute_reply": "2021-05-12T22:03:06.200975Z",
     "shell.execute_reply.started": "2021-05-12T22:03:06.183421Z"
    }
   },
   "outputs": [],
   "source": [
    "import os\n",
    "import cv2\n",
    "import numpy as np\n",
    "from tqdm.notebook import tqdm\n",
    "import shutil\n",
    "import pathlib"
   ]
  },
  {
   "cell_type": "code",
   "execution_count": 38,
   "metadata": {
    "execution": {
     "iopub.execute_input": "2021-05-12T22:09:12.749460Z",
     "iopub.status.busy": "2021-05-12T22:09:12.749460Z",
     "iopub.status.idle": "2021-05-12T22:09:16.893310Z",
     "shell.execute_reply": "2021-05-12T22:09:16.892310Z",
     "shell.execute_reply.started": "2021-05-12T22:09:12.749460Z"
    }
   },
   "outputs": [
    {
     "data": {
      "application/vnd.jupyter.widget-view+json": {
       "model_id": "ce9d337b501044f88a1535f13fd41171",
       "version_major": 2,
       "version_minor": 0
      },
      "text/plain": [
       "  0%|          | 0/3 [00:00<?, ?it/s]"
      ]
     },
     "metadata": {},
     "output_type": "display_data"
    },
    {
     "name": "stdout",
     "output_type": "stream",
     "text": [
      "File path: G:\\My Drive\\Senior Project\\dataset\\IP7small\\IMG_0109.MOV\n",
      "Frames:\n"
     ]
    },
    {
     "data": {
      "application/vnd.jupyter.widget-view+json": {
       "model_id": "d40ae7e5b3ed474189a8f9e3c429799e",
       "version_major": 2,
       "version_minor": 0
      },
      "text/plain": [
       "  0%|          | 0/261 [00:00<?, ?it/s]"
      ]
     },
     "metadata": {},
     "output_type": "display_data"
    },
    {
     "ename": "KeyboardInterrupt",
     "evalue": "",
     "output_type": "error",
     "traceback": [
      "\u001b[1;31m---------------------------------------------------------------------------\u001b[0m",
      "\u001b[1;31mKeyboardInterrupt\u001b[0m                         Traceback (most recent call last)",
      "\u001b[1;32m<ipython-input-38-a1c4f248bd0a>\u001b[0m in \u001b[0;36m<module>\u001b[1;34m\u001b[0m\n\u001b[0;32m     26\u001b[0m     \u001b[1;32mwith\u001b[0m \u001b[0mtqdm\u001b[0m\u001b[1;33m(\u001b[0m\u001b[0mtotal\u001b[0m \u001b[1;33m=\u001b[0m \u001b[0mN\u001b[0m\u001b[1;33m)\u001b[0m \u001b[1;32mas\u001b[0m \u001b[0mpbar\u001b[0m\u001b[1;33m:\u001b[0m\u001b[1;33m\u001b[0m\u001b[1;33m\u001b[0m\u001b[0m\n\u001b[0;32m     27\u001b[0m         \u001b[1;32mwhile\u001b[0m \u001b[0mcap\u001b[0m\u001b[1;33m.\u001b[0m\u001b[0misOpened\u001b[0m\u001b[1;33m(\u001b[0m\u001b[1;33m)\u001b[0m\u001b[1;33m:\u001b[0m\u001b[1;33m\u001b[0m\u001b[1;33m\u001b[0m\u001b[0m\n\u001b[1;32m---> 28\u001b[1;33m             \u001b[0mret\u001b[0m\u001b[1;33m,\u001b[0m \u001b[0mframe\u001b[0m \u001b[1;33m=\u001b[0m \u001b[0mcap\u001b[0m\u001b[1;33m.\u001b[0m\u001b[0mread\u001b[0m\u001b[1;33m(\u001b[0m\u001b[1;33m)\u001b[0m\u001b[1;33m\u001b[0m\u001b[1;33m\u001b[0m\u001b[0m\n\u001b[0m\u001b[0;32m     29\u001b[0m             \u001b[1;32mif\u001b[0m \u001b[0mret\u001b[0m \u001b[1;33m==\u001b[0m \u001b[1;32mFalse\u001b[0m\u001b[1;33m:\u001b[0m\u001b[1;33m\u001b[0m\u001b[1;33m\u001b[0m\u001b[0m\n\u001b[0;32m     30\u001b[0m                 \u001b[1;32mbreak\u001b[0m\u001b[1;33m\u001b[0m\u001b[1;33m\u001b[0m\u001b[0m\n",
      "\u001b[1;31mKeyboardInterrupt\u001b[0m: "
     ]
    }
   ],
   "source": [
    "tgt_root = \"G:\\\\My Drive\\\\Senior Project\\\\dataset\\\\IP7_small\"\n",
    "dst_root = \"G:\\\\My Drive\\\\Senior Project\\\\dataset\\\\IP7_small_out\"\n",
    "\n",
    "stride = 1\n",
    "\n",
    "file_paths = []\n",
    "\n",
    "for root, _, fnames in os.walk(tgt_root):\n",
    "    for fname in fnames:\n",
    "        file_paths.append(f'{root}\\\\{fname}')\n",
    "        \n",
    "for folder_index, file_path in tqdm(enumerate(file_paths), total=len(file_paths)):\n",
    "    cap = cv2.VideoCapture(file_path)\n",
    "    i = 0\n",
    "    processed_i = 0\n",
    "    N = int(cap.get(cv2.CAP_PROP_FRAME_COUNT))\n",
    "    \n",
    "    print('File path:', path)\n",
    "    print('Frames:'.format(N))\n",
    "    \n",
    "    subdir_path = pathlib.Path(f'{dst_root}\\\\{folder_index}')\n",
    "    if subdir_path.exists() and subdir_path.is_dir():\n",
    "        shutil.rmtree(subdir_path)\n",
    "    os.mkdir(subdir_path)\n",
    "    \n",
    "    with tqdm(total = N) as pbar:\n",
    "        while cap.isOpened():\n",
    "            ret, frame = cap.read()\n",
    "            if ret == False:\n",
    "                break\n",
    "\n",
    "            if i%stride == 0:\n",
    "                cv2.imwrite(f'{dst_root}\\\\{folder_index}\\\\{folder_index}_{i}.jpg', frame)\n",
    "                processed_i += 1\n",
    "            \n",
    "            i += 1\n",
    "            \n",
    "            pbar.update(1)\n",
    "    cap.release()\n",
    "    print('Finish at frame:', i)\n",
    "    print('Actual Process frames:', processed_i)"
   ]
  },
  {
   "cell_type": "code",
   "execution_count": 39,
   "metadata": {
    "execution": {
     "iopub.execute_input": "2021-05-12T22:30:01.419400Z",
     "iopub.status.busy": "2021-05-12T22:30:01.419400Z",
     "iopub.status.idle": "2021-05-12T22:30:01.455401Z",
     "shell.execute_reply": "2021-05-12T22:30:01.454432Z",
     "shell.execute_reply.started": "2021-05-12T22:30:01.419400Z"
    }
   },
   "outputs": [],
   "source": [
    "cap.release()"
   ]
  },
  {
   "cell_type": "code",
   "execution_count": null,
   "metadata": {},
   "outputs": [],
   "source": []
  }
 ],
 "metadata": {
  "kernelspec": {
   "display_name": "python_food-tf1",
   "language": "python",
   "name": "python_food-tf1"
  },
  "language_info": {
   "codemirror_mode": {
    "name": "ipython",
    "version": 3
   },
   "file_extension": ".py",
   "mimetype": "text/x-python",
   "name": "python",
   "nbconvert_exporter": "python",
   "pygments_lexer": "ipython3",
   "version": "3.7.10"
  }
 },
 "nbformat": 4,
 "nbformat_minor": 5
}
